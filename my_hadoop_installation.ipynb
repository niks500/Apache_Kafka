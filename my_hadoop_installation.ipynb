{
  "cells": [
    {
      "cell_type": "markdown",
      "metadata": {
        "id": "myPIGP-mwKBD"
      },
      "source": [
        "#Hadoop Instalation Part\n",
        "Hadoop is a Java-based programming framework that supports the processing and storage of extremely large datasets on a cluster of inexpensive machines. It was the first major open source project in the big data playing field and is sponsored by the Apache Software Foundation."
      ]
    },
    {
      "cell_type": "markdown",
      "metadata": {
        "id": "j9bT9M1yvyXG"
      },
      "source": [
        "## Step 1:Installing Hadoop"
      ]
    },
    {
      "cell_type": "code",
      "execution_count": null,
      "metadata": {
        "id": "bijZAdD_cBMK"
      },
      "outputs": [],
      "source": [
        "!wget https://downloads.apache.org/hadoop/common/hadoop-3.3.5/hadoop-3.3.5.tar.gz\n"
      ]
    },
    {
      "cell_type": "code",
      "source": [
        "!ls\n",
        "!pwd"
      ],
      "metadata": {
        "id": "B5_9aFPVysjN"
      },
      "execution_count": null,
      "outputs": []
    },
    {
      "cell_type": "markdown",
      "metadata": {
        "id": "Mj40txsTw6DZ"
      },
      "source": [
        "we’ll use the tar command with the -x flag to extract, -z to uncompress, -v for verbose output, and -f to specify that we’re extracting from a file"
      ]
    },
    {
      "cell_type": "code",
      "execution_count": null,
      "metadata": {
        "id": "nVce513-cBHm"
      },
      "outputs": [],
      "source": [
        "!tar -xzvf hadoop-3.3.5.tar.gz"
      ]
    },
    {
      "cell_type": "code",
      "source": [
        "!ls"
      ],
      "metadata": {
        "id": "cJVGYnm3zZUS"
      },
      "execution_count": null,
      "outputs": []
    },
    {
      "cell_type": "code",
      "execution_count": null,
      "metadata": {
        "id": "JF-ze-YOdync"
      },
      "outputs": [],
      "source": [
        "#copy  hadoop file to user/local\n",
        "!cp -r hadoop-3.3.5/ /usr/local/"
      ]
    },
    {
      "cell_type": "code",
      "source": [
        "!ls /usr/local/hadoop-3.3.5/etc/hadoop/\n"
      ],
      "metadata": {
        "id": "NEGOE6Zo2xlV"
      },
      "execution_count": null,
      "outputs": []
    },
    {
      "cell_type": "markdown",
      "metadata": {
        "id": "Vh6Dqbbrwqpe"
      },
      "source": [
        "## Step2:Configuring Hadoop’s Java Home\n",
        "Hadoop requires that you set the path to Java, either as an environment variable or in the Hadoop configuration file."
      ]
    },
    {
      "cell_type": "code",
      "execution_count": null,
      "metadata": {
        "id": "_OUc19ZtcBG5"
      },
      "outputs": [],
      "source": [
        "#To find the default Java path\n",
        "!readlink -f /usr/bin/java | sed \"s:bin/java::\""
      ]
    },
    {
      "cell_type": "markdown",
      "metadata": {
        "id": "MxaPBWRKxXta"
      },
      "source": [
        "To set java path, go to /usr/local/hadoop-3.3.5/etc/hadoop/hadoop-env.sh then\n",
        "\n",
        ". . .\n",
        "export JAVA_HOME=/usr/lib/jvm/java-11-openjdk-amd64/\n",
        " . . ."
      ]
    },
    {
      "cell_type": "markdown",
      "metadata": {
        "id": "Oj00rPPZyEWZ"
      },
      "source": [
        "# Step 3:  Running Hadoop"
      ]
    },
    {
      "cell_type": "code",
      "execution_count": null,
      "metadata": {
        "id": "Zhf-zK7NcBDF"
      },
      "outputs": [],
      "source": [
        "#Running Hadoop\n",
        "!/usr/local/hadoop-3.3.5/bin/hadoop"
      ]
    },
    {
      "cell_type": "code",
      "execution_count": null,
      "metadata": {
        "id": "6DuDJIsPcA98",
        "colab": {
          "base_uri": "https://localhost:8080/"
        },
        "outputId": "2bf4183e-aeb9-4593-eab1-a1b073066a29"
      },
      "outputs": [
        {
          "output_type": "stream",
          "name": "stdout",
          "text": [
            "input\n"
          ]
        }
      ],
      "source": [
        "!ls /root\n"
      ]
    },
    {
      "cell_type": "code",
      "source": [
        "!ls /usr/local/hadoop-3.3.5/share/hadoop/mapreduce"
      ],
      "metadata": {
        "id": "RKetJ_AAKa2Q"
      },
      "execution_count": null,
      "outputs": []
    },
    {
      "cell_type": "code",
      "execution_count": null,
      "metadata": {
        "id": "RZi5zOGKyySH"
      },
      "outputs": [],
      "source": [
        "!/usr/local/hadoop-3.3.5/bin/hadoop jar /usr/local/hadoop-3.3.5/share/hadoop/mapreduce/hadoop-mapreduce-examples-3.3.5.jar grep ~/input ~/grep_example 'allowed[.]*'"
      ]
    },
    {
      "cell_type": "code",
      "execution_count": null,
      "metadata": {
        "id": "mtr0xWbfcA5J",
        "colab": {
          "base_uri": "https://localhost:8080/"
        },
        "outputId": "f8a2914f-dd15-49bf-cec9-71dcade6506c"
      },
      "outputs": [
        {
          "output_type": "stream",
          "name": "stdout",
          "text": [
            "cat: '/root/grep_example/*': No such file or directory\n"
          ]
        }
      ],
      "source": [
        "!cat ~/grep_example/*\n"
      ]
    },
    {
      "cell_type": "markdown",
      "metadata": {
        "id": "AQc3SKkOzNxn"
      },
      "source": [
        "**Download 20newsgroups dataset available at** http://qwone.com/~jason/20Newsgroups."
      ]
    },
    {
      "cell_type": "code",
      "execution_count": null,
      "metadata": {
        "id": "vgEGfCcGOswd"
      },
      "outputs": [],
      "source": [
        "!wget http://qwone.com/~jason/20Newsgroups/20news-18828.tar.gz\n",
        "\n",
        "!tar -xzvf 20news-18828.tar.gz"
      ]
    },
    {
      "cell_type": "markdown",
      "metadata": {
        "id": "oxCFNl3SQHDl"
      },
      "source": [
        "#Hadoop Streaming"
      ]
    },
    {
      "cell_type": "code",
      "execution_count": null,
      "metadata": {
        "id": "bLRsjubgOs2p"
      },
      "outputs": [],
      "source": [
        "!find / -name 'hadoop-streaming*.jar'"
      ]
    },
    {
      "cell_type": "code",
      "source": [
        "!ls"
      ],
      "metadata": {
        "id": "9Xm8moqPBShp"
      },
      "execution_count": null,
      "outputs": []
    },
    {
      "cell_type": "code",
      "execution_count": null,
      "metadata": {
        "id": "eu5IAGT2Os6D"
      },
      "outputs": [],
      "source": [
        "!chmod u+rwx /content/mapper.py\n",
        "!chmod u+rwx /content/reducer.py"
      ]
    },
    {
      "cell_type": "code",
      "execution_count": null,
      "metadata": {
        "id": "ru1lPx9yOsvO"
      },
      "outputs": [],
      "source": [
        "!/usr/local/hadoop-3.3.5/bin/hadoop jar /usr/local/hadoop-3.3.5/share/hadoop/tools/lib/hadoop-streaming-3.3.5.jar -input /content/hadoop_install.ipynb -output /content/output5 -file /content/mapper.py  -file /content/reducer.py  -mapper 'python mapper.py'  -reducer 'python reducer.py'"
      ]
    },
    {
      "cell_type": "code",
      "source": [
        "!ls -l /content/output5"
      ],
      "metadata": {
        "id": "QCxZcAAjOjLq"
      },
      "execution_count": null,
      "outputs": []
    },
    {
      "cell_type": "code",
      "source": [
        "!cat /content/output/_SUCCESS"
      ],
      "metadata": {
        "id": "BYz58Wk9DKyn"
      },
      "execution_count": null,
      "outputs": []
    },
    {
      "cell_type": "code",
      "source": [],
      "metadata": {
        "id": "c2pTHscoDOaJ"
      },
      "execution_count": null,
      "outputs": []
    },
    {
      "cell_type": "code",
      "execution_count": null,
      "metadata": {
        "id": "CTFjOm59kc04"
      },
      "outputs": [],
      "source": [
        "!cat /content/output5/part-00000"
      ]
    },
    {
      "cell_type": "code",
      "source": [
        "/content/hadoop_install.ipynb"
      ],
      "metadata": {
        "id": "QdVIhwNvU0UV"
      },
      "execution_count": null,
      "outputs": []
    }
  ],
  "metadata": {
    "colab": {
      "provenance": []
    },
    "kernelspec": {
      "display_name": "Python 3",
      "name": "python3"
    }
  },
  "nbformat": 4,
  "nbformat_minor": 0
}